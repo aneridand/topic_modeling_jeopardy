{
 "cells": [
  {
   "cell_type": "markdown",
   "id": "integrated-civilian",
   "metadata": {},
   "source": [
    "# TODO:\n",
    "\n",
    "Question Difficulty Monetary value acts as a proxy for the difficulty of the questions asked in Jeopardy!. Using topic modeling, explore what aspects of the questions make them more difficult. And, tying this to the above, how have these trends changed over time?\n",
    "\n",
    "\n",
    "Details for Question 2:\n",
    "\n",
    "- First take the ’Jeopardy’ and the ’Double Jeopardy’ portions questions across all time and break them into separate monetary value collections according to their ’value’. For each ’value’, use LDA and/or NMF to identify topics of the questions asked. Compare and contrast the topics identified for each ’value’ and analyze your findings. Are these topics inherently different? Are there overlap among the difficulties. What kinds of questions seem to be the most difficult?\n",
    "\n",
    "- Now take the questions from above and further split questions across year. So you will have collections of questions according to all ’value”s for each year. Use LDA and/or NMF to identify topics in each ’value’ - year combination. Investigate the dynamics of the questions and analyze what topics were considered easy and what were considered difficult over time. Are there any interesting trends here? Think about what would be interesting to report to the world about Jeopardy!"
   ]
  },
  {
   "cell_type": "code",
   "execution_count": 1,
   "id": "alpha-greek",
   "metadata": {},
   "outputs": [],
   "source": [
    "import pandas as pd\n",
    "import numpy as np\n",
    "from sklearn.feature_extraction.text import TfidfVectorizer\n",
    "from sklearn.decomposition import NMF\n",
    "import re"
   ]
  },
  {
   "cell_type": "markdown",
   "id": "excited-contrast",
   "metadata": {},
   "source": [
    "__Helper Functions__"
   ]
  },
  {
   "cell_type": "code",
   "execution_count": 2,
   "id": "undefined-scout",
   "metadata": {},
   "outputs": [],
   "source": [
    "def clean_column_names(cols: list) -> list:\n",
    "    \"\"\"\n",
    "    Given a list (or any iterable) of columns names, \n",
    "    returns a list of the cleaned column names in lower case, \n",
    "    with extra spaces stripped off,\n",
    "    and words separated by underscores.\n",
    "    \"\"\"\n",
    "    clean_cols = []\n",
    "    for col in cols:\n",
    "        clean_cols.append(col.lower().strip().replace(\" \", \"_\"))\n",
    "    return clean_cols\n",
    "\n",
    "\n",
    "def clean_value(amounts: np.ndarray) -> np.ndarray:\n",
    "    \"\"\"\n",
    "    Given an array of string values under the `value`\n",
    "    column, returns an array of floating point\n",
    "    monetary values, replacing `None` as nan.\n",
    "    \"\"\"\n",
    "    clean_values = np.zeros(len(amounts))\n",
    "    for idx, amount in enumerate(amounts):\n",
    "        if amount == \"None\":\n",
    "            clean_values[idx] = np.nan\n",
    "        else:\n",
    "            clean_values[idx] = float(amount.replace(\"$\", \"\").replace(\",\", \"\"))\n",
    "    return clean_values\n",
    "\n",
    "def get_encoding_dict(df: pd.core.frame.DataFrame, col: str) -> dict:\n",
    "    \n",
    "    \"\"\"\n",
    "    Given a dataframe and the name of column\n",
    "    to be encoded, returns the dictionary with\n",
    "    original values as keys and encodings as values .\n",
    "    \"\"\"\n",
    "    uniq_values = df[col].unique()\n",
    "    enc_dict = {}\n",
    "    for idx, val in enumerate(uniq_values):\n",
    "        enc_dict[val] = idx\n",
    "    return enc_dict\n",
    "\n",
    "def extract_hyperlink_media(df: pd.core.frame.DataFrame, col:str):\n",
    "    \n",
    "    \"\"\"\n",
    "    Given a dataframe and the name of column\n",
    "    containing hyperlinks, returns the hyperlink \n",
    "    and the associated media type.\n",
    "    \"\"\"\n",
    "    s = df[col]\n",
    "    hyperlink = np.empty(len(s), dtype=object)\n",
    "    media_type = np.empty(len(s), dtype=object)\n",
    "    for i, q in enumerate(s):\n",
    "        match = re.search('(http://(.+).)\">(.+)$', q)\n",
    "        if match is None:\n",
    "            hyperlink[i] = 'nan'\n",
    "            media_type[i] = 'nan'\n",
    "        else:\n",
    "            hyp_link = match.group(1).split('\"')[0]\n",
    "            hyperlink[i] = hyp_link\n",
    "            media_type[i] = hyp_link.rpartition(\".\")[-1]\n",
    "    return hyperlink, media_type"
   ]
  },
  {
   "cell_type": "markdown",
   "id": "indoor-prior",
   "metadata": {},
   "source": [
    "__Load Data__"
   ]
  },
  {
   "cell_type": "code",
   "execution_count": 3,
   "id": "southern-voluntary",
   "metadata": {},
   "outputs": [
    {
     "data": {
      "text/html": [
       "<div>\n",
       "<style scoped>\n",
       "    .dataframe tbody tr th:only-of-type {\n",
       "        vertical-align: middle;\n",
       "    }\n",
       "\n",
       "    .dataframe tbody tr th {\n",
       "        vertical-align: top;\n",
       "    }\n",
       "\n",
       "    .dataframe thead th {\n",
       "        text-align: right;\n",
       "    }\n",
       "</style>\n",
       "<table border=\"1\" class=\"dataframe\">\n",
       "  <thead>\n",
       "    <tr style=\"text-align: right;\">\n",
       "      <th></th>\n",
       "      <th>Show Number</th>\n",
       "      <th>Air Date</th>\n",
       "      <th>Round</th>\n",
       "      <th>Category</th>\n",
       "      <th>Value</th>\n",
       "      <th>Question</th>\n",
       "      <th>Answer</th>\n",
       "    </tr>\n",
       "  </thead>\n",
       "  <tbody>\n",
       "    <tr>\n",
       "      <th>0</th>\n",
       "      <td>4680</td>\n",
       "      <td>2004-12-31</td>\n",
       "      <td>Jeopardy!</td>\n",
       "      <td>HISTORY</td>\n",
       "      <td>$200</td>\n",
       "      <td>For the last 8 years of his life, Galileo was ...</td>\n",
       "      <td>Copernicus</td>\n",
       "    </tr>\n",
       "    <tr>\n",
       "      <th>1</th>\n",
       "      <td>4680</td>\n",
       "      <td>2004-12-31</td>\n",
       "      <td>Jeopardy!</td>\n",
       "      <td>ESPN's TOP 10 ALL-TIME ATHLETES</td>\n",
       "      <td>$200</td>\n",
       "      <td>No. 2: 1912 Olympian; football star at Carlisl...</td>\n",
       "      <td>Jim Thorpe</td>\n",
       "    </tr>\n",
       "    <tr>\n",
       "      <th>2</th>\n",
       "      <td>4680</td>\n",
       "      <td>2004-12-31</td>\n",
       "      <td>Jeopardy!</td>\n",
       "      <td>EVERYBODY TALKS ABOUT IT...</td>\n",
       "      <td>$200</td>\n",
       "      <td>The city of Yuma in this state has a record av...</td>\n",
       "      <td>Arizona</td>\n",
       "    </tr>\n",
       "    <tr>\n",
       "      <th>3</th>\n",
       "      <td>4680</td>\n",
       "      <td>2004-12-31</td>\n",
       "      <td>Jeopardy!</td>\n",
       "      <td>THE COMPANY LINE</td>\n",
       "      <td>$200</td>\n",
       "      <td>In 1963, live on \"The Art Linkletter Show\", th...</td>\n",
       "      <td>McDonald's</td>\n",
       "    </tr>\n",
       "    <tr>\n",
       "      <th>4</th>\n",
       "      <td>4680</td>\n",
       "      <td>2004-12-31</td>\n",
       "      <td>Jeopardy!</td>\n",
       "      <td>EPITAPHS &amp; TRIBUTES</td>\n",
       "      <td>$200</td>\n",
       "      <td>Signer of the Dec. of Indep., framer of the Co...</td>\n",
       "      <td>John Adams</td>\n",
       "    </tr>\n",
       "  </tbody>\n",
       "</table>\n",
       "</div>"
      ],
      "text/plain": [
       "   Show Number    Air Date      Round                         Category  Value  \\\n",
       "0         4680  2004-12-31  Jeopardy!                          HISTORY   $200   \n",
       "1         4680  2004-12-31  Jeopardy!  ESPN's TOP 10 ALL-TIME ATHLETES   $200   \n",
       "2         4680  2004-12-31  Jeopardy!      EVERYBODY TALKS ABOUT IT...   $200   \n",
       "3         4680  2004-12-31  Jeopardy!                 THE COMPANY LINE   $200   \n",
       "4         4680  2004-12-31  Jeopardy!              EPITAPHS & TRIBUTES   $200   \n",
       "\n",
       "                                            Question      Answer  \n",
       "0  For the last 8 years of his life, Galileo was ...  Copernicus  \n",
       "1  No. 2: 1912 Olympian; football star at Carlisl...  Jim Thorpe  \n",
       "2  The city of Yuma in this state has a record av...     Arizona  \n",
       "3  In 1963, live on \"The Art Linkletter Show\", th...  McDonald's  \n",
       "4  Signer of the Dec. of Indep., framer of the Co...  John Adams  "
      ]
     },
     "execution_count": 3,
     "metadata": {},
     "output_type": "execute_result"
    }
   ],
   "source": [
    "raw_data = pd.read_csv(\"../data/jeopardy.csv\")\n",
    "raw_data.head()"
   ]
  },
  {
   "cell_type": "code",
   "execution_count": 4,
   "id": "cooperative-census",
   "metadata": {},
   "outputs": [
    {
     "data": {
      "text/plain": [
       "(216930, 7)"
      ]
     },
     "execution_count": 4,
     "metadata": {},
     "output_type": "execute_result"
    }
   ],
   "source": [
    "raw_data.shape"
   ]
  },
  {
   "cell_type": "markdown",
   "id": "incorrect-catering",
   "metadata": {},
   "source": [
    "__Transform Data__"
   ]
  },
  {
   "cell_type": "code",
   "execution_count": 5,
   "id": "marked-partner",
   "metadata": {},
   "outputs": [
    {
     "data": {
      "text/plain": [
       "show_number     int64\n",
       "air_date       object\n",
       "round          object\n",
       "category       object\n",
       "value          object\n",
       "question       object\n",
       "answer         object\n",
       "dtype: object"
      ]
     },
     "execution_count": 5,
     "metadata": {},
     "output_type": "execute_result"
    }
   ],
   "source": [
    "# clean column names\n",
    "raw_data.columns = clean_column_names(raw_data.columns)\n",
    "raw_data.dtypes"
   ]
  },
  {
   "cell_type": "code",
   "execution_count": 6,
   "id": "suited-haven",
   "metadata": {},
   "outputs": [],
   "source": [
    "# convert `air_date` to datetime\n",
    "raw_data.air_date = pd.to_datetime(raw_data.air_date)"
   ]
  },
  {
   "cell_type": "code",
   "execution_count": 7,
   "id": "completed-aaron",
   "metadata": {},
   "outputs": [],
   "source": [
    "# clean `value` column\n",
    "raw_data.value = clean_value(raw_data.value.values)"
   ]
  },
  {
   "cell_type": "code",
   "execution_count": 8,
   "id": "black-algorithm",
   "metadata": {},
   "outputs": [
    {
     "data": {
      "text/plain": [
       "Jeopardy!           107384\n",
       "Double Jeopardy!    105912\n",
       "Final Jeopardy!       3631\n",
       "Tiebreaker               3\n",
       "Name: round, dtype: int64"
      ]
     },
     "execution_count": 8,
     "metadata": {},
     "output_type": "execute_result"
    }
   ],
   "source": [
    "raw_data[\"round\"].value_counts()"
   ]
  },
  {
   "cell_type": "code",
   "execution_count": 10,
   "id": "colonial-latitude",
   "metadata": {},
   "outputs": [
    {
     "name": "stdout",
     "output_type": "stream",
     "text": [
      "{'Jeopardy!': 0, 'Double Jeopardy!': 1, 'Final Jeopardy!': 2, 'Tiebreaker': 3}\n",
      "0    107384\n",
      "1    105912\n",
      "2      3631\n",
      "3         3\n",
      "Name: round, dtype: int64\n"
     ]
    }
   ],
   "source": [
    "# encode `round` column, (already clean)\n",
    "round_dict = get_encoding_dict(raw_data, \"round\")\n",
    "print(round_dict)\n",
    "enc_data = raw_data.replace({\"round\": round_dict})\n",
    "print(enc_data[\"round\"].value_counts())"
   ]
  },
  {
   "cell_type": "code",
   "execution_count": 11,
   "id": "technical-animal",
   "metadata": {},
   "outputs": [
    {
     "data": {
      "text/plain": [
       "nan                           206407\n",
       "jpg                             8280\n",
       "wmv                             1224\n",
       "mp3                             1017\n",
       "mov                                1\n",
       "com/media/2001-04-02_DJ_29         1\n",
       "Name: media_type, dtype: int64"
      ]
     },
     "execution_count": 11,
     "metadata": {},
     "output_type": "execute_result"
    }
   ],
   "source": [
    "# extract hyperlinks and the media types associated with hyperlink\n",
    "hyperlink, media_type = extract_hyperlink_media(enc_data, \"question\")\n",
    "enc_data[\"hyperlink\"] = hyperlink\n",
    "enc_data[\"media_type\"] = media_type\n",
    "enc_data.media_type.value_counts()"
   ]
  },
  {
   "cell_type": "code",
   "execution_count": 12,
   "id": "delayed-hunger",
   "metadata": {},
   "outputs": [
    {
     "data": {
      "text/plain": [
       "nan    206407\n",
       "jpg      8281\n",
       "wmv      1224\n",
       "mp3      1017\n",
       "mov         1\n",
       "Name: media_type, dtype: int64"
      ]
     },
     "execution_count": 12,
     "metadata": {},
     "output_type": "execute_result"
    }
   ],
   "source": [
    "# one of the hyperlinks is broken (missing a .jpg extension). Fix the hyperlink and the associated media type\n",
    "hlink = enc_data.loc[enc_data.media_type==\"com/media/2001-04-02_DJ_29\", \"hyperlink\"]\n",
    "enc_data.loc[enc_data.media_type==\"com/media/2001-04-02_DJ_29\", \"hyperlink\"] = hlink + \".jpg\"\n",
    "enc_data.loc[enc_data.media_type==\"com/media/2001-04-02_DJ_29\", \"media_type\"] = \"jpg\"\n",
    "\n",
    "# check the media_type value counts again\n",
    "enc_data.media_type.value_counts()"
   ]
  },
  {
   "cell_type": "code",
   "execution_count": 13,
   "id": "thirty-george",
   "metadata": {},
   "outputs": [
    {
     "name": "stdout",
     "output_type": "stream",
     "text": [
      "{'nan': 0, 'mp3': 1, 'jpg': 2, 'wmv': 3, 'mov': 4}\n"
     ]
    },
    {
     "data": {
      "text/plain": [
       "0    206407\n",
       "2      8281\n",
       "3      1224\n",
       "1      1017\n",
       "4         1\n",
       "Name: media_type, dtype: int64"
      ]
     },
     "execution_count": 13,
     "metadata": {},
     "output_type": "execute_result"
    }
   ],
   "source": [
    "# encode media_type column\n",
    "media_type_dict = get_encoding_dict(enc_data, col = \"media_type\")\n",
    "print(media_type_dict)\n",
    "enc_data = enc_data.replace({\"media_type\": media_type_dict})\n",
    "\n",
    "# check the media_type value counts again\n",
    "enc_data.media_type.value_counts()"
   ]
  },
  {
   "cell_type": "code",
   "execution_count": 14,
   "id": "focused-player",
   "metadata": {},
   "outputs": [
    {
     "data": {
      "text/html": [
       "<div>\n",
       "<style scoped>\n",
       "    .dataframe tbody tr th:only-of-type {\n",
       "        vertical-align: middle;\n",
       "    }\n",
       "\n",
       "    .dataframe tbody tr th {\n",
       "        vertical-align: top;\n",
       "    }\n",
       "\n",
       "    .dataframe thead th {\n",
       "        text-align: right;\n",
       "    }\n",
       "</style>\n",
       "<table border=\"1\" class=\"dataframe\">\n",
       "  <thead>\n",
       "    <tr style=\"text-align: right;\">\n",
       "      <th></th>\n",
       "      <th>show_number</th>\n",
       "      <th>air_date</th>\n",
       "      <th>round</th>\n",
       "      <th>category</th>\n",
       "      <th>value</th>\n",
       "      <th>question</th>\n",
       "      <th>answer</th>\n",
       "      <th>hyperlink</th>\n",
       "      <th>media_type</th>\n",
       "    </tr>\n",
       "  </thead>\n",
       "  <tbody>\n",
       "    <tr>\n",
       "      <th>0</th>\n",
       "      <td>4680</td>\n",
       "      <td>2004-12-31</td>\n",
       "      <td>0</td>\n",
       "      <td>HISTORY</td>\n",
       "      <td>200.0</td>\n",
       "      <td>For the last 8 years of his life, Galileo was ...</td>\n",
       "      <td>Copernicus</td>\n",
       "      <td>nan</td>\n",
       "      <td>0</td>\n",
       "    </tr>\n",
       "    <tr>\n",
       "      <th>1</th>\n",
       "      <td>4680</td>\n",
       "      <td>2004-12-31</td>\n",
       "      <td>0</td>\n",
       "      <td>ESPN's TOP 10 ALL-TIME ATHLETES</td>\n",
       "      <td>200.0</td>\n",
       "      <td>No. 2: 1912 Olympian; football star at Carlisl...</td>\n",
       "      <td>Jim Thorpe</td>\n",
       "      <td>nan</td>\n",
       "      <td>0</td>\n",
       "    </tr>\n",
       "    <tr>\n",
       "      <th>2</th>\n",
       "      <td>4680</td>\n",
       "      <td>2004-12-31</td>\n",
       "      <td>0</td>\n",
       "      <td>EVERYBODY TALKS ABOUT IT...</td>\n",
       "      <td>200.0</td>\n",
       "      <td>The city of Yuma in this state has a record av...</td>\n",
       "      <td>Arizona</td>\n",
       "      <td>nan</td>\n",
       "      <td>0</td>\n",
       "    </tr>\n",
       "    <tr>\n",
       "      <th>3</th>\n",
       "      <td>4680</td>\n",
       "      <td>2004-12-31</td>\n",
       "      <td>0</td>\n",
       "      <td>THE COMPANY LINE</td>\n",
       "      <td>200.0</td>\n",
       "      <td>In 1963, live on \"The Art Linkletter Show\", th...</td>\n",
       "      <td>McDonald's</td>\n",
       "      <td>nan</td>\n",
       "      <td>0</td>\n",
       "    </tr>\n",
       "    <tr>\n",
       "      <th>4</th>\n",
       "      <td>4680</td>\n",
       "      <td>2004-12-31</td>\n",
       "      <td>0</td>\n",
       "      <td>EPITAPHS &amp; TRIBUTES</td>\n",
       "      <td>200.0</td>\n",
       "      <td>Signer of the Dec. of Indep., framer of the Co...</td>\n",
       "      <td>John Adams</td>\n",
       "      <td>nan</td>\n",
       "      <td>0</td>\n",
       "    </tr>\n",
       "    <tr>\n",
       "      <th>...</th>\n",
       "      <td>...</td>\n",
       "      <td>...</td>\n",
       "      <td>...</td>\n",
       "      <td>...</td>\n",
       "      <td>...</td>\n",
       "      <td>...</td>\n",
       "      <td>...</td>\n",
       "      <td>...</td>\n",
       "      <td>...</td>\n",
       "    </tr>\n",
       "    <tr>\n",
       "      <th>216925</th>\n",
       "      <td>4999</td>\n",
       "      <td>2006-05-11</td>\n",
       "      <td>1</td>\n",
       "      <td>RIDDLE ME THIS</td>\n",
       "      <td>2000.0</td>\n",
       "      <td>This Puccini opera turns on the solution to 3 ...</td>\n",
       "      <td>Turandot</td>\n",
       "      <td>nan</td>\n",
       "      <td>0</td>\n",
       "    </tr>\n",
       "    <tr>\n",
       "      <th>216926</th>\n",
       "      <td>4999</td>\n",
       "      <td>2006-05-11</td>\n",
       "      <td>1</td>\n",
       "      <td>\"T\" BIRDS</td>\n",
       "      <td>2000.0</td>\n",
       "      <td>In North America this term is properly applied...</td>\n",
       "      <td>a titmouse</td>\n",
       "      <td>nan</td>\n",
       "      <td>0</td>\n",
       "    </tr>\n",
       "    <tr>\n",
       "      <th>216927</th>\n",
       "      <td>4999</td>\n",
       "      <td>2006-05-11</td>\n",
       "      <td>1</td>\n",
       "      <td>AUTHORS IN THEIR YOUTH</td>\n",
       "      <td>2000.0</td>\n",
       "      <td>In Penny Lane, where this \"Hellraiser\" grew up...</td>\n",
       "      <td>Clive Barker</td>\n",
       "      <td>nan</td>\n",
       "      <td>0</td>\n",
       "    </tr>\n",
       "    <tr>\n",
       "      <th>216928</th>\n",
       "      <td>4999</td>\n",
       "      <td>2006-05-11</td>\n",
       "      <td>1</td>\n",
       "      <td>QUOTATIONS</td>\n",
       "      <td>2000.0</td>\n",
       "      <td>From Ft. Sill, Okla. he made the plea, Arizona...</td>\n",
       "      <td>Geronimo</td>\n",
       "      <td>nan</td>\n",
       "      <td>0</td>\n",
       "    </tr>\n",
       "    <tr>\n",
       "      <th>216929</th>\n",
       "      <td>4999</td>\n",
       "      <td>2006-05-11</td>\n",
       "      <td>2</td>\n",
       "      <td>HISTORIC NAMES</td>\n",
       "      <td>NaN</td>\n",
       "      <td>A silent movie title includes the last name of...</td>\n",
       "      <td>Grigori Alexandrovich Potemkin</td>\n",
       "      <td>nan</td>\n",
       "      <td>0</td>\n",
       "    </tr>\n",
       "  </tbody>\n",
       "</table>\n",
       "<p>216930 rows × 9 columns</p>\n",
       "</div>"
      ],
      "text/plain": [
       "        show_number   air_date  round                         category  \\\n",
       "0              4680 2004-12-31      0                          HISTORY   \n",
       "1              4680 2004-12-31      0  ESPN's TOP 10 ALL-TIME ATHLETES   \n",
       "2              4680 2004-12-31      0      EVERYBODY TALKS ABOUT IT...   \n",
       "3              4680 2004-12-31      0                 THE COMPANY LINE   \n",
       "4              4680 2004-12-31      0              EPITAPHS & TRIBUTES   \n",
       "...             ...        ...    ...                              ...   \n",
       "216925         4999 2006-05-11      1                   RIDDLE ME THIS   \n",
       "216926         4999 2006-05-11      1                        \"T\" BIRDS   \n",
       "216927         4999 2006-05-11      1           AUTHORS IN THEIR YOUTH   \n",
       "216928         4999 2006-05-11      1                       QUOTATIONS   \n",
       "216929         4999 2006-05-11      2                   HISTORIC NAMES   \n",
       "\n",
       "         value                                           question  \\\n",
       "0        200.0  For the last 8 years of his life, Galileo was ...   \n",
       "1        200.0  No. 2: 1912 Olympian; football star at Carlisl...   \n",
       "2        200.0  The city of Yuma in this state has a record av...   \n",
       "3        200.0  In 1963, live on \"The Art Linkletter Show\", th...   \n",
       "4        200.0  Signer of the Dec. of Indep., framer of the Co...   \n",
       "...        ...                                                ...   \n",
       "216925  2000.0  This Puccini opera turns on the solution to 3 ...   \n",
       "216926  2000.0  In North America this term is properly applied...   \n",
       "216927  2000.0  In Penny Lane, where this \"Hellraiser\" grew up...   \n",
       "216928  2000.0  From Ft. Sill, Okla. he made the plea, Arizona...   \n",
       "216929     NaN  A silent movie title includes the last name of...   \n",
       "\n",
       "                                answer hyperlink  media_type  \n",
       "0                           Copernicus       nan           0  \n",
       "1                           Jim Thorpe       nan           0  \n",
       "2                              Arizona       nan           0  \n",
       "3                           McDonald's       nan           0  \n",
       "4                           John Adams       nan           0  \n",
       "...                                ...       ...         ...  \n",
       "216925                        Turandot       nan           0  \n",
       "216926                      a titmouse       nan           0  \n",
       "216927                    Clive Barker       nan           0  \n",
       "216928                        Geronimo       nan           0  \n",
       "216929  Grigori Alexandrovich Potemkin       nan           0  \n",
       "\n",
       "[216930 rows x 9 columns]"
      ]
     },
     "execution_count": 14,
     "metadata": {},
     "output_type": "execute_result"
    }
   ],
   "source": [
    "enc_data"
   ]
  },
  {
   "cell_type": "code",
   "execution_count": null,
   "id": "attempted-andorra",
   "metadata": {},
   "outputs": [],
   "source": []
  }
 ],
 "metadata": {
  "kernelspec": {
   "display_name": "Python 3",
   "language": "python",
   "name": "python3"
  },
  "language_info": {
   "codemirror_mode": {
    "name": "ipython",
    "version": 3
   },
   "file_extension": ".py",
   "mimetype": "text/x-python",
   "name": "python",
   "nbconvert_exporter": "python",
   "pygments_lexer": "ipython3",
   "version": "3.8.5"
  }
 },
 "nbformat": 4,
 "nbformat_minor": 5
}
